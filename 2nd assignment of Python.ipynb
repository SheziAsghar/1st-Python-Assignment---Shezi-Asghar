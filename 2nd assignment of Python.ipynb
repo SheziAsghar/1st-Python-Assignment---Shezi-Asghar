{
 "cells": [
  {
   "cell_type": "code",
   "execution_count": 12,
   "metadata": {},
   "outputs": [
    {
     "name": "stdout",
     "output_type": "stream",
     "text": [
      "------------------------------------------------------STUDENTS' MARKSHEET------------------------------------------------------\n",
      "Enter marks in Maths: 99\n",
      "Enter marks in Physics: 99\n",
      "Enter marks in Chemistry: 99\n",
      "Enter marks in English: 99\n",
      "Enter marks in Computer: 45\n",
      "____________________________\n",
      "Total Marks are: 441\n",
      "Percentage Marks are: 88.2\n",
      "Grade: B\n",
      "Remarks: VERY GOOD\n",
      "Failed subjects count: 1\n",
      "Failed subjects name: Computer \n"
     ]
    }
   ],
   "source": [
    "'''Q1: Write a program which takes 5 inputs from user for different subject’s\n",
    "marks, total it and generate mark sheet using grades?'''\n",
    "\n",
    "#I am going to make complete student marksheet application in python!\n",
    "\n",
    "print(\"------------------------------------------------------STUDENTS' MARKSHEET------------------------------------------------------\")\n",
    "sub1 = int(input(\"Enter marks in Maths: \"))\n",
    "sub2 = int(input(\"Enter marks in Physics: \"))\n",
    "sub3 = int(input(\"Enter marks in Chemistry: \"))\n",
    "sub4 = int(input(\"Enter marks in English: \"))\n",
    "sub5 = int(input(\"Enter marks in Computer: \"))\n",
    "print(\"____________________________\")\n",
    "total = (sub1 + sub2 + sub3 + sub4 + sub5)\n",
    "avg = total/5\n",
    "print(\"Total Marks are:\",total)\n",
    "print(\"Percentage Marks are:\",avg)\n",
    "if (avg>=90) :\n",
    "    print(\"Grade: A\")\n",
    "    print(\"Remarks: EXCELLENCE\")\n",
    "elif (avg>=80 and avg<90) :\n",
    "    print(\"Grade: B\")\n",
    "    print(\"Remarks: VERY GOOD\")\n",
    "elif (avg>=70 and avg<80) :\n",
    "    print(\"Grade: C\")\n",
    "    print(\"Remarks: GOOD\")\n",
    "elif (avg>=60 and avg<70) :\n",
    "    print(\"Grade: D\")\n",
    "    print(\"Remarks: FAIR\")\n",
    "else :\n",
    "    print(\"Grade: F\")\n",
    "    print(\"Remarks: FAILURE\")\n",
    "i = 0\n",
    "subs_name = \"\"\n",
    "if sub1 <60 :\n",
    "    i = i + 1\n",
    "    subs_name += \"Math \"\n",
    "if sub2 <60 :\n",
    "    i = i + 1\n",
    "    subs_name += \"Physics \"\n",
    "if sub3 <60 :\n",
    "    i = i + 1\n",
    "    subs_name += \"Chemistry \"\n",
    "if sub4 <60 :\n",
    "    i = i + 1\n",
    "    subs_name += \"English \"\n",
    "if sub5 <60 :\n",
    "    i = i + 1\n",
    "    subs_name += \"Computer \"\n",
    "print(\"Failed subjects count:\",i)\n",
    "print(\"Failed subjects name:\",subs_name)"
   ]
  },
  {
   "cell_type": "code",
   "execution_count": 11,
   "metadata": {},
   "outputs": [
    {
     "name": "stdout",
     "output_type": "stream",
     "text": [
      "-----------------------------------------------------------Even OR Odd---------------------------------------------------------\n",
      "Enter a number 4\n",
      "________________\n",
      "4 is even number\n"
     ]
    }
   ],
   "source": [
    "'''Q2: Write a program which take input from user and identify that the given\n",
    "number is even or odd?'''\n",
    "\n",
    "print(\"-----------------------------------------------------------Even OR Odd---------------------------------------------------------\")\n",
    "x = int(input(\"Enter a number \"))\n",
    "print(\"________________\")\n",
    "if x%2==0 :\n",
    "    print(x,\"is even number\")\n",
    "else :\n",
    "    print(x,\"is odd number\")"
   ]
  },
  {
   "cell_type": "code",
   "execution_count": 11,
   "metadata": {},
   "outputs": [
    {
     "name": "stdout",
     "output_type": "stream",
     "text": [
      "5\n"
     ]
    }
   ],
   "source": [
    "'''Q3: Write a program which print the length of the list?'''\n",
    "\n",
    "list=[22,21,33,44,55]\n",
    "print(len(list))"
   ]
  },
  {
   "cell_type": "code",
   "execution_count": 9,
   "metadata": {},
   "outputs": [
    {
     "name": "stdout",
     "output_type": "stream",
     "text": [
      "sum of list= 135\n"
     ]
    }
   ],
   "source": [
    "'''Q4: Write a Python program to sum all the numeric items in a list?'''\n",
    "\n",
    "list=[22,21,33,4,55]\n",
    "x=len(list)\n",
    "sum=0\n",
    "for i in range (x):\n",
    "    sum=sum+list[i]\n",
    "print(\"sum of list=\",sum)"
   ]
  },
  {
   "cell_type": "code",
   "execution_count": 10,
   "metadata": {},
   "outputs": [
    {
     "name": "stdout",
     "output_type": "stream",
     "text": [
      "55\n"
     ]
    }
   ],
   "source": [
    "'''Q5: Write a Python program to get the largest number from a numeric list.'''\n",
    "\n",
    "list=[22,21,33,44,55]\n",
    "print(max(list))"
   ]
  },
  {
   "cell_type": "code",
   "execution_count": 18,
   "metadata": {},
   "outputs": [
    {
     "name": "stdout",
     "output_type": "stream",
     "text": [
      "1\n",
      "1\n",
      "2\n",
      "3\n"
     ]
    }
   ],
   "source": [
    "'''Q6: Take a list, say for example this one:\n",
    "a = [1, 1, 2, 3, 5, 8, 13, 21, 34, 55, 89]\n",
    "and write a program that prints out all the elements of the list that are\n",
    "less than 5.'''\n",
    "\n",
    "list=[1,1,2,3,5,8,13,21,34,55,89]\n",
    "x=len(list)\n",
    "for i in range(x):\n",
    "    if list[i]<5:\n",
    "        print(list[i])"
   ]
  }
 ],
 "metadata": {
  "kernelspec": {
   "display_name": "Python 3",
   "language": "python",
   "name": "python3"
  },
  "language_info": {
   "codemirror_mode": {
    "name": "ipython",
    "version": 3
   },
   "file_extension": ".py",
   "mimetype": "text/x-python",
   "name": "python",
   "nbconvert_exporter": "python",
   "pygments_lexer": "ipython3",
   "version": "3.7.4"
  }
 },
 "nbformat": 4,
 "nbformat_minor": 2
}
